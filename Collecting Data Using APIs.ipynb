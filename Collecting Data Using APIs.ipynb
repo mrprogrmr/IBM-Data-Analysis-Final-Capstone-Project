{
 "cells": [
  {
   "cell_type": "code",
   "execution_count": 1,
   "id": "48980ae2",
   "metadata": {},
   "outputs": [],
   "source": [
    "import requests"
   ]
  },
  {
   "cell_type": "code",
   "execution_count": 2,
   "id": "d5b691f4",
   "metadata": {},
   "outputs": [],
   "source": [
    "api_url = \"http://api.open-notify.org/astros.json\""
   ]
  },
  {
   "cell_type": "code",
   "execution_count": 3,
   "id": "11d96bca",
   "metadata": {},
   "outputs": [],
   "source": [
    "response = requests.get(api_url)"
   ]
  },
  {
   "cell_type": "code",
   "execution_count": 4,
   "id": "9cea8239",
   "metadata": {},
   "outputs": [],
   "source": [
    "if response.ok:\n",
    "    data = response.json()"
   ]
  },
  {
   "cell_type": "code",
   "execution_count": 5,
   "id": "a040a6ab",
   "metadata": {},
   "outputs": [
    {
     "name": "stdout",
     "output_type": "stream",
     "text": [
      "{'people': [{'craft': 'ISS', 'name': 'Oleg Kononenko'}, {'craft': 'ISS', 'name': 'Nikolai Chub'}, {'craft': 'ISS', 'name': 'Tracy Caldwell Dyson'}, {'craft': 'ISS', 'name': 'Matthew Dominick'}, {'craft': 'ISS', 'name': 'Michael Barratt'}, {'craft': 'ISS', 'name': 'Jeanette Epps'}, {'craft': 'ISS', 'name': 'Alexander Grebenkin'}, {'craft': 'ISS', 'name': 'Butch Wilmore'}, {'craft': 'ISS', 'name': 'Sunita Williams'}, {'craft': 'Tiangong', 'name': 'Li Guangsu'}, {'craft': 'Tiangong', 'name': 'Li Cong'}, {'craft': 'Tiangong', 'name': 'Ye Guangfu'}], 'number': 12, 'message': 'success'}\n"
     ]
    }
   ],
   "source": [
    "print(data)"
   ]
  },
  {
   "cell_type": "code",
   "execution_count": 7,
   "id": "07c77dbe",
   "metadata": {},
   "outputs": [
    {
     "name": "stdout",
     "output_type": "stream",
     "text": [
      "12\n"
     ]
    }
   ],
   "source": [
    "print(data.get('number'))"
   ]
  },
  {
   "cell_type": "code",
   "execution_count": 8,
   "id": "e4090394",
   "metadata": {},
   "outputs": [
    {
     "name": "stdout",
     "output_type": "stream",
     "text": [
      "There are 12 astranauts on ISS\n",
      "And their names are :\n",
      "Oleg Kononenko\n",
      "Nikolai Chub\n",
      "Tracy Caldwell Dyson\n",
      "Matthew Dominick\n",
      "Michael Barratt\n",
      "Jeanette Epps\n",
      "Alexander Grebenkin\n",
      "Butch Wilmore\n",
      "Sunita Williams\n",
      "Li Guangsu\n",
      "Li Cong\n",
      "Ye Guangfu\n"
     ]
    }
   ],
   "source": [
    "astranauts = data.get('people')\n",
    "print(\"There are {} astranauts on ISS\".format(len(astranauts)))\n",
    "print(\"And their names are :\")\n",
    "for astranaut in astranauts:\n",
    "    print(astranaut.get('name'))"
   ]
  },
  {
   "cell_type": "markdown",
   "id": "6501c85a",
   "metadata": {},
   "source": [
    "# Collect Jobs Data using GitHub Jobs API "
   ]
  },
  {
   "cell_type": "code",
   "execution_count": 9,
   "id": "1142fef8",
   "metadata": {},
   "outputs": [],
   "source": [
    "import requests"
   ]
  },
  {
   "cell_type": "code",
   "execution_count": 10,
   "id": "483a369e",
   "metadata": {},
   "outputs": [],
   "source": [
    "baseurl = \"https://cf-courses-data.s3.us.cloud-object-storage.appdomain.cloud/IBM-DA0321EN-SkillsNetwork/labs/module%201/datasets/githubposting.json\""
   ]
  },
  {
   "cell_type": "code",
   "execution_count": 11,
   "id": "bd2384e0",
   "metadata": {},
   "outputs": [],
   "source": [
    "def get_number_of_jobs(technology):\n",
    "    number_of_jobs=0\n",
    "    response = requests.get(baseurl)\n",
    "    if response.ok:\n",
    "        data = response.json()\n",
    "        tecnologias = data.get('technology')\n",
    "        for item in tecnologias:\n",
    "            if tecnologias.get(item).lower()==technology.lower():\n",
    "                number_of_jobs += int(data.get('number of job posting').get(item))\n",
    "                \n",
    "    return technology, number_of_jobs"
   ]
  },
  {
   "cell_type": "code",
   "execution_count": 12,
   "id": "de5f4835",
   "metadata": {},
   "outputs": [
    {
     "name": "stdout",
     "output_type": "stream",
     "text": [
      "('python', 51)\n"
     ]
    }
   ],
   "source": [
    "print(get_number_of_jobs('python'))"
   ]
  },
  {
   "cell_type": "raw",
   "id": "f1364530",
   "metadata": {},
   "source": [
    "# Store the results in an excel file"
   ]
  },
  {
   "cell_type": "code",
   "execution_count": 13,
   "id": "4a28b06d",
   "metadata": {},
   "outputs": [
    {
     "data": {
      "text/plain": [
       "['C',\n",
       " 'C%23',\n",
       " 'C%2B%2B',\n",
       " 'Java',\n",
       " 'JavaScript',\n",
       " 'Python',\n",
       " 'Scala',\n",
       " 'Oracle',\n",
       " 'SQL Server',\n",
       " 'MySQL Server',\n",
       " 'PostgreSQL',\n",
       " 'MongoDB']"
      ]
     },
     "execution_count": 13,
     "metadata": {},
     "output_type": "execute_result"
    }
   ],
   "source": [
    "technologies = ['C','C%23','C%2B%2B','Java','JavaScript','Python','Scala','Oracle','SQL Server','MySQL Server','PostgreSQL','MongoDB']\n",
    "technologies"
   ]
  },
  {
   "cell_type": "code",
   "execution_count": 18,
   "id": "3697f780",
   "metadata": {},
   "outputs": [
    {
     "name": "stdout",
     "output_type": "stream",
     "text": [
      "Requirement already satisfied: openpyxl in c:\\users\\hp\\appdata\\local\\programs\\python\\python311\\lib\\site-packages (3.1.5)\n",
      "Requirement already satisfied: et-xmlfile in c:\\users\\hp\\appdata\\local\\programs\\python\\python311\\lib\\site-packages (from openpyxl) (1.1.0)\n"
     ]
    }
   ],
   "source": [
    "!pip install openpyxl\n",
    "from openpyxl import Workbook"
   ]
  },
  {
   "cell_type": "code",
   "execution_count": 19,
   "id": "57485975",
   "metadata": {},
   "outputs": [
    {
     "data": {
      "text/plain": [
       "<Worksheet \"Sheet\">"
      ]
     },
     "execution_count": 19,
     "metadata": {},
     "output_type": "execute_result"
    }
   ],
   "source": [
    "wb=Workbook()\n",
    "ws=wb.active\n",
    "ws"
   ]
  },
  {
   "cell_type": "code",
   "execution_count": 21,
   "id": "4742d1bc",
   "metadata": {},
   "outputs": [
    {
     "data": {
      "text/plain": [
       "[None, None, None, None, None, None, None, None, None, None, None, None]"
      ]
     },
     "execution_count": 21,
     "metadata": {},
     "output_type": "execute_result"
    }
   ],
   "source": [
    "tech_list = list()\n",
    "for language in technologies:\n",
    "    jobs = get_number_of_jobs(language)\n",
    "    tech_list.append(jobs)\n",
    "    \n",
    "ws.append(['Language', 'Job Postings'])\n",
    "[ws.append(i) for i in tech_list]"
   ]
  },
  {
   "cell_type": "code",
   "execution_count": 22,
   "id": "4c5a226a",
   "metadata": {},
   "outputs": [],
   "source": [
    "wb.save(\"github-job-postings.xlsx\")"
   ]
  },
  {
   "cell_type": "code",
   "execution_count": 23,
   "id": "3fe67e83",
   "metadata": {},
   "outputs": [
    {
     "name": "stdout",
     "output_type": "stream",
     "text": [
      "C:\\Users\\HP\\github-job-postings.xlsx\n",
      "        Language  Job Postings\n",
      "0       Language  Job Postings\n",
      "1              C           184\n",
      "2           C%23             0\n",
      "3        C%2B%2B             0\n",
      "4           Java            92\n",
      "5     JavaScript            65\n",
      "6         Python            51\n",
      "7          Scala            47\n",
      "8         Oracle             8\n",
      "9     SQL Server            16\n",
      "10  MySQL Server             7\n",
      "11    PostgreSQL            17\n",
      "12       MongoDB            18\n"
     ]
    }
   ],
   "source": [
    "import pandas as pd\n",
    "import os\n",
    "print(os.path.abspath(\"github-job-postings.xlsx\"))\n",
    "filename=\"path/github-job-postings.xlsx\"\n",
    "df=pd.read_excel(\"github-job-postings.xlsx\")\n",
    "print(df)"
   ]
  },
  {
   "cell_type": "code",
   "execution_count": null,
   "id": "41686ee2",
   "metadata": {},
   "outputs": [],
   "source": []
  }
 ],
 "metadata": {
  "kernelspec": {
   "display_name": "Python 3 (ipykernel)",
   "language": "python",
   "name": "python3"
  },
  "language_info": {
   "codemirror_mode": {
    "name": "ipython",
    "version": 3
   },
   "file_extension": ".py",
   "mimetype": "text/x-python",
   "name": "python",
   "nbconvert_exporter": "python",
   "pygments_lexer": "ipython3",
   "version": "3.11.2"
  }
 },
 "nbformat": 4,
 "nbformat_minor": 5
}
